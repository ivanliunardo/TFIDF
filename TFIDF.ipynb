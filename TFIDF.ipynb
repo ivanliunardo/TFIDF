{
  "nbformat": 4,
  "nbformat_minor": 0,
  "metadata": {
    "colab": {
      "name": "TFIDF.ipynb",
      "provenance": [],
      "toc_visible": true
    },
    "kernelspec": {
      "name": "python3",
      "display_name": "Python 3"
    }
  },
  "cells": [
    {
      "cell_type": "markdown",
      "metadata": {
        "id": "OVp27dWc9ZqI"
      },
      "source": [
        "# Inisialisasi"
      ]
    },
    {
      "cell_type": "markdown",
      "metadata": {
        "id": "9eq8yooU_Z41"
      },
      "source": [
        "Ivan Liu Nardo Shiddiq (18/427581/PA/18541)"
      ]
    },
    {
      "cell_type": "markdown",
      "metadata": {
        "id": "NjUyc-fIzFBy"
      },
      "source": [
        "**Inisialisasi Kata Dasar**"
      ]
    },
    {
      "cell_type": "code",
      "metadata": {
        "id": "8OSmEkO8sLHY"
      },
      "source": [
        "import pandas as pd\r\n",
        "\r\n",
        "file = open(\"basicwords.txt\",\"r\")\r\n",
        "bw = file.read()\r\n",
        "kata_dasar = bw.split(\"\\n\")"
      ],
      "execution_count": 1,
      "outputs": []
    },
    {
      "cell_type": "markdown",
      "metadata": {
        "id": "g_q09vNc7-zs"
      },
      "source": [
        "**Inisialisasi Stop Words**"
      ]
    },
    {
      "cell_type": "code",
      "metadata": {
        "id": "9cy2zX0M8E73"
      },
      "source": [
        "file = open(\"stopwords.txt\",\"r\")\r\n",
        "sw = file.read()\r\n",
        "stopwords = sw.split(\"\\n\")\r\n",
        "\r\n",
        "def removeSW(word):\r\n",
        "    if word in stopwords:\r\n",
        "      corpus.remove(word)"
      ],
      "execution_count": 2,
      "outputs": []
    },
    {
      "cell_type": "markdown",
      "metadata": {
        "id": "eAyC-026zjJy"
      },
      "source": [
        "**Inisialisasi Stemming**"
      ]
    },
    {
      "cell_type": "code",
      "metadata": {
        "id": "j1bfqzEh1tHq"
      },
      "source": [
        "def stemming(word):\r\n",
        "  if word[len(word)-3:] == \"lah\" or word[len(word)-3:] == \"kah\" or word[len(word)-3:] == \"tah\" or word[len(word)-3:] == \"nya\" or word[len(word)-3:] == \"pun\" or word[len(word)-3:] == \"kan\":\r\n",
        "    word = word[:len(word)-3]\r\n",
        "  elif word[len(word)-2:] == \"an\" or word[len(word)-2:] == \"ku\" or word[len(word)-2:] == \"mu\":\r\n",
        "    word = word[:len(word)-2]\r\n",
        "  elif word[:3] == \"ber\" or word[:3] == \"ter\" or word[:3] == \"per\":\r\n",
        "    word = word[3:]\r\n",
        "  elif word[:2] == \"me\" or word[:2] == \"be\" or word[:2] == \"di\" or word[:2] == \"ke\" or word[:2] == \"pe\" or word[:2] == \"se\" or word[:2] == \"te\":\r\n",
        "    word = word[2:]\r\n",
        "  elif word[len(word)-1:] == \"i\":\r\n",
        "    word = word[:len(word)-1]\r\n",
        "  if word[:4] == \"meng\" or word[:4] == \"peng\":\r\n",
        "    word = word[4:]\r\n",
        "  return word\r\n",
        "\r\n",
        "#Jumlah imbuhan\r\n",
        "imbuhan = 22"
      ],
      "execution_count": 3,
      "outputs": []
    },
    {
      "cell_type": "markdown",
      "metadata": {
        "id": "DOturUfp_rSY"
      },
      "source": [
        "# Main Function"
      ]
    },
    {
      "cell_type": "markdown",
      "metadata": {
        "id": "fg3UZWlg__nJ"
      },
      "source": [
        "**Input Dokumen/Kalimat**"
      ]
    },
    {
      "cell_type": "code",
      "metadata": {
        "colab": {
          "base_uri": "https://localhost:8080/"
        },
        "id": "ZzYWQFp9AGma",
        "outputId": "d44c6eff-e707-4bc4-d554-00a593a97cb2"
      },
      "source": [
        "import math\r\n",
        "\r\n",
        "nDokumen = int(input(\"Jumlah Dokumen:\"))\r\n",
        "corpus = []\r\n",
        "sentence = []\r\n",
        "tf = []\r\n",
        "\r\n",
        "for i in range (nDokumen):\r\n",
        "  kalimat = (input(\"Kalimat:\"))\r\n",
        "  kalimat = kalimat.lower()\r\n",
        "  words = kalimat.split(\" \")\r\n",
        "  sentence.append(kalimat)\r\n",
        "  tf.append(words)\r\n",
        "  for word in words:\r\n",
        "    corpus.append(word)"
      ],
      "execution_count": 4,
      "outputs": [
        {
          "output_type": "stream",
          "text": [
            "Jumlah Dokumen:4\n",
            "Kalimat:Mengapa semua menangis\n",
            "Kalimat:Padahal aku selalu tersenyum\n",
            "Kalimat:Usap air matamu\n",
            "Kalimat:Aku tak ingin ada kesedihan\n"
          ],
          "name": "stdout"
        }
      ]
    },
    {
      "cell_type": "markdown",
      "metadata": {
        "id": "pV1EPiqFEMTj"
      },
      "source": [
        "**Normalisasi Kata**\r\n"
      ]
    },
    {
      "cell_type": "code",
      "metadata": {
        "colab": {
          "base_uri": "https://localhost:8080/"
        },
        "id": "D2Xd3IpTYWZS",
        "outputId": "b01ddcf3-dc71-4f41-ac2b-fdbdad8cf4f4"
      },
      "source": [
        "normalized = []\r\n",
        "for word in corpus:\r\n",
        "  removeSW(word)\r\n",
        "  if word not in kata_dasar:\r\n",
        "    for i in range(imbuhan): \r\n",
        "      if word not in kata_dasar:\r\n",
        "        word = stemming(word)\r\n",
        "      else:\r\n",
        "        break\r\n",
        "  normalized.append(word)\r\n",
        "\r\n",
        "if '' in normalized:\r\n",
        "  normalized.remove('')\r\n",
        "\r\n",
        "BoW = list(dict.fromkeys(normalized))\r\n",
        "print(BoW)"
      ],
      "execution_count": 5,
      "outputs": [
        {
          "output_type": "stream",
          "text": [
            "['mengapa', 'nangis', 'padahal', 'selalu', 'usap', 'air', 'mata', 'aku', 'ingin', 'sedih']\n"
          ],
          "name": "stdout"
        }
      ]
    },
    {
      "cell_type": "markdown",
      "metadata": {
        "id": "NZGiDbMPY0t9"
      },
      "source": [
        "**Menghitung TF**"
      ]
    },
    {
      "cell_type": "code",
      "metadata": {
        "colab": {
          "base_uri": "https://localhost:8080/"
        },
        "id": "rhcE0tUAZGUg",
        "outputId": "111d9d17-2b76-4fba-8467-ca654cf9de9a"
      },
      "source": [
        "TF={}\r\n",
        "for i in range(nDokumen):\r\n",
        "  TF[i+1] = dict.fromkeys(BoW, 0)\r\n",
        "  for word in BoW:\r\n",
        "    if word in sentence[i]:\r\n",
        "      TF[i+1][word] += 1\r\n",
        "  print(f\"Dokumen {i+1}:\", TF[i+1], end=\"\\n\")"
      ],
      "execution_count": 6,
      "outputs": [
        {
          "output_type": "stream",
          "text": [
            "Dokumen 1: {'mengapa': 1, 'nangis': 1, 'padahal': 0, 'selalu': 0, 'usap': 0, 'air': 0, 'mata': 0, 'aku': 0, 'ingin': 0, 'sedih': 0}\n",
            "Dokumen 2: {'mengapa': 0, 'nangis': 0, 'padahal': 1, 'selalu': 1, 'usap': 0, 'air': 0, 'mata': 0, 'aku': 1, 'ingin': 0, 'sedih': 0}\n",
            "Dokumen 3: {'mengapa': 0, 'nangis': 0, 'padahal': 0, 'selalu': 0, 'usap': 1, 'air': 1, 'mata': 1, 'aku': 0, 'ingin': 0, 'sedih': 0}\n",
            "Dokumen 4: {'mengapa': 0, 'nangis': 0, 'padahal': 0, 'selalu': 0, 'usap': 0, 'air': 0, 'mata': 0, 'aku': 1, 'ingin': 1, 'sedih': 1}\n"
          ],
          "name": "stdout"
        }
      ]
    },
    {
      "cell_type": "markdown",
      "metadata": {
        "id": "4vri8E_iDRwm"
      },
      "source": [
        "**Menghitung IDF**"
      ]
    },
    {
      "cell_type": "code",
      "metadata": {
        "colab": {
          "base_uri": "https://localhost:8080/"
        },
        "id": "m3Q8tPKwDYVd",
        "outputId": "a8f245fc-3973-41da-9521-b1aa4011372b"
      },
      "source": [
        "IDF={}\r\n",
        "computeIDF = dict.fromkeys(BoW, 0)\r\n",
        "for sentence, info in TF.items():\r\n",
        "  for term in info:\r\n",
        "    if info[term] >= 1:\r\n",
        "      computeIDF[term] += 1\r\n",
        "    else:\r\n",
        "      pass\r\n",
        "\r\n",
        "for term in computeIDF:\r\n",
        "  IDF[term] = 1 + math.log10(nDokumen/computeIDF[term])\r\n",
        "\r\n",
        "print(IDF)"
      ],
      "execution_count": 7,
      "outputs": [
        {
          "output_type": "stream",
          "text": [
            "{'mengapa': 1.6020599913279625, 'nangis': 1.6020599913279625, 'padahal': 1.6020599913279625, 'selalu': 1.6020599913279625, 'usap': 1.6020599913279625, 'air': 1.6020599913279625, 'mata': 1.6020599913279625, 'aku': 1.3010299956639813, 'ingin': 1.6020599913279625, 'sedih': 1.6020599913279625}\n"
          ],
          "name": "stdout"
        }
      ]
    },
    {
      "cell_type": "markdown",
      "metadata": {
        "id": "1Zkfce4E2WGS"
      },
      "source": [
        "**Menghitung TF-IDF**"
      ]
    },
    {
      "cell_type": "code",
      "metadata": {
        "colab": {
          "base_uri": "https://localhost:8080/"
        },
        "id": "g2CW5MBj2gG9",
        "outputId": "cbca5c6a-f202-448e-82d6-aa86cc5cef95"
      },
      "source": [
        "TFIDF = {}\r\n",
        "for i in range(nDokumen):\r\n",
        "  TFIDF[i+1] = dict.fromkeys(BoW, 0)\r\n",
        "  for term in TFIDF[i+1]:\r\n",
        "    if term in TF[i+1]:\r\n",
        "      TFIDF[i+1][term] +=  IDF[term] * TF[i+1][term]\r\n",
        "  \r\n",
        "  print(f\"Dokumen {i+1}:\", TFIDF[i+1], end=\"\\n\")"
      ],
      "execution_count": 8,
      "outputs": [
        {
          "output_type": "stream",
          "text": [
            "Dokumen 1: {'mengapa': 1.6020599913279625, 'nangis': 1.6020599913279625, 'padahal': 0.0, 'selalu': 0.0, 'usap': 0.0, 'air': 0.0, 'mata': 0.0, 'aku': 0.0, 'ingin': 0.0, 'sedih': 0.0}\n",
            "Dokumen 2: {'mengapa': 0.0, 'nangis': 0.0, 'padahal': 1.6020599913279625, 'selalu': 1.6020599913279625, 'usap': 0.0, 'air': 0.0, 'mata': 0.0, 'aku': 1.3010299956639813, 'ingin': 0.0, 'sedih': 0.0}\n",
            "Dokumen 3: {'mengapa': 0.0, 'nangis': 0.0, 'padahal': 0.0, 'selalu': 0.0, 'usap': 1.6020599913279625, 'air': 1.6020599913279625, 'mata': 1.6020599913279625, 'aku': 0.0, 'ingin': 0.0, 'sedih': 0.0}\n",
            "Dokumen 4: {'mengapa': 0.0, 'nangis': 0.0, 'padahal': 0.0, 'selalu': 0.0, 'usap': 0.0, 'air': 0.0, 'mata': 0.0, 'aku': 1.3010299956639813, 'ingin': 1.6020599913279625, 'sedih': 1.6020599913279625}\n"
          ],
          "name": "stdout"
        }
      ]
    }
  ]
}